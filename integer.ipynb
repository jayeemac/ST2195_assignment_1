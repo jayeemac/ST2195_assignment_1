{
 "cells": [
  {
   "cell_type": "markdown",
   "id": "096edbd1",
   "metadata": {},
   "source": [
    "# ST2195_Assignment_1 \n",
    "\n",
    "# Author : Jia En\n",
    "\n",
    "### Date : 27/10/2023\n",
    "\n",
    "## Print Integers \n",
    "\n",
    "The following codes print integers from **1 to 10**. "
   ]
  },
  {
   "cell_type": "code",
   "execution_count": 1,
   "id": "c35377f3",
   "metadata": {
    "scrolled": false
   },
   "outputs": [
    {
     "name": "stdout",
     "output_type": "stream",
     "text": [
      "1\n",
      "2\n",
      "3\n",
      "4\n",
      "5\n",
      "6\n",
      "7\n",
      "8\n",
      "9\n",
      "10\n"
     ]
    }
   ],
   "source": [
    "print(1)\n",
    "print(2)\n",
    "print(3)\n",
    "print(4)\n",
    "print(5)\n",
    "print(6)\n",
    "print(7)\n",
    "print(8)\n",
    "print(9)\n",
    "print(10)"
   ]
  },
  {
   "cell_type": "markdown",
   "id": "2f494df1",
   "metadata": {},
   "source": [
    "### Smarter Codes\n",
    "\n",
    "The following codes print integers 1 to 10 using a _for..loop_. "
   ]
  },
  {
   "cell_type": "code",
   "execution_count": null,
   "id": "222d34f1",
   "metadata": {},
   "outputs": [],
   "source": [
    "for i in range(1,11):\n",
    "    print(i)\n",
    "    "
   ]
  }
 ],
 "metadata": {
  "kernelspec": {
   "display_name": "Python 3 (ipykernel)",
   "language": "python",
   "name": "python3"
  },
  "language_info": {
   "codemirror_mode": {
    "name": "ipython",
    "version": 3
   },
   "file_extension": ".py",
   "mimetype": "text/x-python",
   "name": "python",
   "nbconvert_exporter": "python",
   "pygments_lexer": "ipython3",
   "version": "3.11.5"
  }
 },
 "nbformat": 4,
 "nbformat_minor": 5
}
